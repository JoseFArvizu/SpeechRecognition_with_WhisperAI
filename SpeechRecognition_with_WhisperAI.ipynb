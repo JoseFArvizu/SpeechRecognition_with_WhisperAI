{
 "cells": [
  {
   "cell_type": "markdown",
   "id": "4228a327-e5cc-4894-8e82-4c1ce697bee7",
   "metadata": {},
   "source": [
    "# Transciribing Audio with OpenAI's Whisper"
   ]
  },
  {
   "cell_type": "code",
   "execution_count": 15,
   "id": "5329b4e5-8b04-4ce0-8d8e-a5b1aca6cbb2",
   "metadata": {},
   "outputs": [],
   "source": [
    "from jiwer import wer, cer\n",
    "import whisper"
   ]
  },
  {
   "cell_type": "code",
   "execution_count": 16,
   "id": "60cf003c-8174-49c8-886b-87b0e590ebcc",
   "metadata": {},
   "outputs": [],
   "source": [
    "file_path = 'speech_01.wav'"
   ]
  },
  {
   "cell_type": "code",
   "execution_count": 17,
   "id": "7607ab9c-2c72-47bd-bc83-0e5c6df52d8b",
   "metadata": {},
   "outputs": [],
   "source": [
    "ground_truth = \"\"\"My name is Ivan and I am excited to have you as part of our learning community! \n",
    "Before we get started, I’d like to tell you a little bit about myself. I’m a sound engineer turned data scientist,\n",
    "curious about machine learning and Artificial Intelligence. My professional background is primarily in media production,\n",
    "with a focus on audio, IT, and communications\"\"\""
   ]
  },
  {
   "cell_type": "code",
   "execution_count": 18,
   "id": "d3411b74-84bb-45ea-b110-770cbc55a2ea",
   "metadata": {},
   "outputs": [],
   "source": [
    "model = whisper.load_model(\"base\")"
   ]
  },
  {
   "cell_type": "code",
   "execution_count": 20,
   "id": "fd9ad0fe-ac93-4ff8-9c38-02c9ab1bcf8f",
   "metadata": {},
   "outputs": [],
   "source": [
    "result = model.transcribe(file_path)"
   ]
  },
  {
   "cell_type": "code",
   "execution_count": 21,
   "id": "2f9772ef-b238-4f69-893c-3597ea670c5e",
   "metadata": {},
   "outputs": [
    {
     "data": {
      "text/plain": [
       "\" My name is Yvonne and I am excited to have you as part of our learning community. Before we get started, I'd like to tell you a little bit about myself. I'm a sound engineer turned a scientist, curious about machine learning and artificial intelligence. My professional background is primarily in media production, with a focus on audio, IT and communications.\""
      ]
     },
     "execution_count": 21,
     "metadata": {},
     "output_type": "execute_result"
    }
   ],
   "source": [
    "transcribed_text_whisper = result[\"text\"]\n",
    "transcribed_text_whisper"
   ]
  },
  {
   "cell_type": "code",
   "execution_count": 22,
   "id": "7bc7182a-a052-4908-aa41-b3b3b74d71b2",
   "metadata": {},
   "outputs": [
    {
     "data": {
      "text/plain": [
       "'en'"
      ]
     },
     "execution_count": 22,
     "metadata": {},
     "output_type": "execute_result"
    }
   ],
   "source": [
    "result[\"language\"]"
   ]
  },
  {
   "cell_type": "code",
   "execution_count": 23,
   "id": "738df59d-ca8a-4562-9bdc-3959c741db50",
   "metadata": {},
   "outputs": [
    {
     "name": "stdout",
     "output_type": "stream",
     "text": [
      "Word Error Rate (WER): 0.2203\n",
      "Character Error Rate (CER): 0.0470\n"
     ]
    }
   ],
   "source": [
    "calculated_wer = wer(ground_truth, transcribed_text_whisper)\n",
    "calculated_cer = cer(ground_truth, transcribed_text_whisper)\n",
    "print(f\"Word Error Rate (WER): {calculated_wer:.4f}\")\n",
    "print(f\"Character Error Rate (CER): {calculated_cer:.4f}\")"
   ]
  },
  {
   "cell_type": "code",
   "execution_count": null,
   "id": "3980b201-afde-4ca9-a448-737152a669bc",
   "metadata": {},
   "outputs": [],
   "source": []
  }
 ],
 "metadata": {
  "kernelspec": {
   "display_name": "Python(speech_env)",
   "language": "python",
   "name": "speech_env"
  },
  "language_info": {
   "codemirror_mode": {
    "name": "ipython",
    "version": 3
   },
   "file_extension": ".py",
   "mimetype": "text/x-python",
   "name": "python",
   "nbconvert_exporter": "python",
   "pygments_lexer": "ipython3",
   "version": "3.9.21"
  }
 },
 "nbformat": 4,
 "nbformat_minor": 5
}
